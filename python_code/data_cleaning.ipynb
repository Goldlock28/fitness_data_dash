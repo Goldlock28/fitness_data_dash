{
 "cells": [
  {
   "cell_type": "code",
   "execution_count": 1,
   "id": "520a1eac-7f02-4bab-8616-f1b456303486",
   "metadata": {},
   "outputs": [],
   "source": [
    "import pandas as pd\n",
    "import numpy as np\n",
    "import openpyxl"
   ]
  },
  {
   "cell_type": "code",
   "execution_count": 2,
   "id": "6376f412-6611-4323-bc3a-839f58316e61",
   "metadata": {},
   "outputs": [],
   "source": [
    "\n",
    "# Importing the dataset \n",
    "df = pd.read_excel(\"C:/Users/hp/OneDrive/Desktop/Fitness_health_analysis/data/raw_data/health_fitness_dataset.xlsx\")\n",
    "\n"
   ]
  },
  {
   "cell_type": "code",
   "execution_count": 3,
   "id": "e09bd8da-5155-4096-a751-076ac0c6bdcb",
   "metadata": {},
   "outputs": [
    {
     "name": "stdout",
     "output_type": "stream",
     "text": [
      "Total rows with at least one null: 490275\n"
     ]
    }
   ],
   "source": [
    "\n",
    "# Removing Null values \n",
    "null_rows = df[df.isnull().any(axis=1)]\n",
    "print(f\"Total rows with at least one null: {len(null_rows)}\") "
   ]
  },
  {
   "cell_type": "code",
   "execution_count": null,
   "id": "d61403cf-e47b-4218-8b84-7f81c7fadb5b",
   "metadata": {},
   "outputs": [],
   "source": [
    "\n",
    "# Remove null values\n",
    "null_rows = df[df.isnull().any(axis=1)]\n",
    "print(f\"Total rows with null values: {len(null_rows)}\")\n",
    "\n",
    "#Total rows with at least one null: 490275\n",
    "#Total rows left after removing null valaues : 197426\n",
    "\n",
    "null_removed_df = df.dropna()\n",
    "print(f\"Rows after cleaning: {len(null_removed_df)}\")\n",
    "\n",
    "# Clean column names (corrected version)\n",
    "null_removed_df.columns = null_removed_df.columns.str.strip()\n",
    "\n",
    "# Export cleaned data\n",
    "null_removed_df.to_excel(\"cleaned_health_fitness_data.xlsx\", index=False)\n",
    "print(\"Data successfully exported to 'cleaned_health_fitness_data.xlsx'\")"
   ]
  }
 ],
 "metadata": {
  "kernelspec": {
   "display_name": "Python 3 (ipykernel)",
   "language": "python",
   "name": "python3"
  },
  "language_info": {
   "codemirror_mode": {
    "name": "ipython",
    "version": 3
   },
   "file_extension": ".py",
   "mimetype": "text/x-python",
   "name": "python",
   "nbconvert_exporter": "python",
   "pygments_lexer": "ipython3",
   "version": "3.12.10"
  }
 },
 "nbformat": 4,
 "nbformat_minor": 5
}
